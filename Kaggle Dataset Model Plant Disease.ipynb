{
 "cells": [
  {
   "cell_type": "code",
   "execution_count": 2,
   "metadata": {},
   "outputs": [],
   "source": [
    "import numpy as np\n",
    "import PIL.Image as image\n",
    "import os\n",
    "import matplotlib.pyplot as plt\n",
    "import cv2"
   ]
  },
  {
   "cell_type": "code",
   "execution_count": 3,
   "metadata": {},
   "outputs": [],
   "source": [
    "import torch\n",
    "import torch.nn as nn\n",
    "import torch.optim as optim\n",
    "from torch.optim import lr_scheduler\n",
    "import torchvision\n",
    "from torchvision import datasets,models,transforms\n",
    "import time\n",
    "import copy"
   ]
  },
  {
   "cell_type": "code",
   "execution_count": 4,
   "metadata": {},
   "outputs": [],
   "source": [
    "data_dir_train='/home/user/Documents/Niranjana/Plant Disease Model/New Plant Diseases Dataset(Augmented)/train'\n",
    "data_dir_test='/home/user/Documents/Niranjana/Plant Disease Model/New Plant Diseases Dataset(Augmented)/valid'"
   ]
  },
  {
   "cell_type": "code",
   "execution_count": 5,
   "metadata": {},
   "outputs": [
    {
     "data": {
      "text/plain": [
       "PosixPath('/home/user/Documents/Niranjana/Plant Disease Model/New Plant Diseases Dataset(Augmented)/train')"
      ]
     },
     "execution_count": 5,
     "metadata": {},
     "output_type": "execute_result"
    }
   ],
   "source": [
    "import pathlib\n",
    "data_dir_train=pathlib.Path(data_dir_train)\n",
    "data_dir_train"
   ]
  },
  {
   "cell_type": "code",
   "execution_count": 6,
   "metadata": {},
   "outputs": [],
   "source": [
    "classes = [subdir.name for subdir in data_dir_train.glob('*') if subdir.is_dir()]\n",
    "\n"
   ]
  },
  {
   "cell_type": "code",
   "execution_count": 7,
   "metadata": {},
   "outputs": [
    {
     "data": {
      "text/plain": [
       "['Apple___Cedar_apple_rust',\n",
       " 'Grape___Black_rot',\n",
       " 'Corn_(maize)___healthy',\n",
       " 'Potato___healthy',\n",
       " 'Grape___Esca_(Black_Measles)',\n",
       " 'Tomato___Late_blight',\n",
       " 'Peach___Bacterial_spot',\n",
       " 'Tomato___Target_Spot',\n",
       " 'Peach___healthy',\n",
       " 'Tomato___Leaf_Mold',\n",
       " 'Tomato___Spider_mites Two-spotted_spider_mite',\n",
       " 'Potato___Late_blight',\n",
       " 'Grape___healthy',\n",
       " 'Raspberry___healthy',\n",
       " 'Tomato___Tomato_mosaic_virus',\n",
       " 'Corn_(maize)___Northern_Leaf_Blight',\n",
       " 'Tomato___healthy',\n",
       " 'Pepper,_bell___healthy',\n",
       " 'Cherry_(including_sour)___Powdery_mildew',\n",
       " 'Corn_(maize)___Common_rust_',\n",
       " 'Tomato___Bacterial_spot',\n",
       " 'Tomato___Septoria_leaf_spot',\n",
       " 'Tomato___Early_blight',\n",
       " 'Soybean___healthy',\n",
       " 'Apple___healthy',\n",
       " 'Cherry_(including_sour)___healthy',\n",
       " 'Strawberry___healthy',\n",
       " 'Strawberry___Leaf_scorch',\n",
       " 'Pepper,_bell___Bacterial_spot',\n",
       " 'Grape___Leaf_blight_(Isariopsis_Leaf_Spot)',\n",
       " 'Corn_(maize)___Cercospora_leaf_spot Gray_leaf_spot',\n",
       " 'Apple___Apple_scab',\n",
       " 'Blueberry___healthy',\n",
       " 'Orange___Haunglongbing_(Citrus_greening)',\n",
       " 'Potato___Early_blight',\n",
       " 'Tomato___Tomato_Yellow_Leaf_Curl_Virus',\n",
       " 'Apple___Black_rot',\n",
       " 'Squash___Powdery_mildew']"
      ]
     },
     "execution_count": 7,
     "metadata": {},
     "output_type": "execute_result"
    }
   ],
   "source": [
    "classes"
   ]
  },
  {
   "cell_type": "code",
   "execution_count": 8,
   "metadata": {},
   "outputs": [
    {
     "data": {
      "text/plain": [
       "38"
      ]
     },
     "execution_count": 8,
     "metadata": {},
     "output_type": "execute_result"
    }
   ],
   "source": [
    "len(classes)"
   ]
  },
  {
   "cell_type": "code",
   "execution_count": null,
   "metadata": {},
   "outputs": [],
   "source": []
  },
  {
   "cell_type": "code",
   "execution_count": 9,
   "metadata": {},
   "outputs": [],
   "source": [
    "leaves_labels={}\n",
    "for index,class_names in enumerate(classes):\n",
    "    leaves_labels[class_names]=index\n",
    "    # leaves_labels[class_names]=i"
   ]
  },
  {
   "cell_type": "code",
   "execution_count": 10,
   "metadata": {},
   "outputs": [],
   "source": [
    "leaves={}\n",
    "for class_name in classes:\n",
    "    class_path=data_dir_train/class_name\n",
    "    leaves[class_name]=list(class_path.glob('*'))\n",
    "\n",
    "y_train=[]\n",
    "for plant_name,path in leaves.items():\n",
    "    for image_path in path:\n",
    "        y_train.append(leaves_labels[plant_name])\n"
   ]
  },
  {
   "cell_type": "code",
   "execution_count": 11,
   "metadata": {},
   "outputs": [],
   "source": [
    "data_dir_test=pathlib.Path(data_dir_test)\n"
   ]
  },
  {
   "cell_type": "code",
   "execution_count": 12,
   "metadata": {},
   "outputs": [],
   "source": [
    "import torchvision.transforms as transforms\n",
    "transform = transforms.Compose([\n",
    "    transforms.Resize((244, 224)),\n",
    "    transforms.ToTensor(),\n",
    "    transforms.Normalize(mean=[0.485, 0.456, 0.406], std=[0.229, 0.224, 0.225])  # ImageNet normalization\n",
    "])"
   ]
  },
  {
   "cell_type": "code",
   "execution_count": 13,
   "metadata": {},
   "outputs": [],
   "source": [
    "from torchvision.datasets import ImageFolder\n",
    "train_dataset = ImageFolder(root=data_dir_train, transform=transform)\n",
    "test_dataset = ImageFolder(root=data_dir_test, transform=transform)"
   ]
  },
  {
   "cell_type": "code",
   "execution_count": 14,
   "metadata": {},
   "outputs": [],
   "source": [
    "from torch.utils.data import DataLoader\n",
    "train_loader = DataLoader(train_dataset, batch_size=32, shuffle=True)\n",
    "test_loader = DataLoader(test_dataset, batch_size=32, shuffle=False)"
   ]
  },
  {
   "cell_type": "code",
   "execution_count": 15,
   "metadata": {},
   "outputs": [],
   "source": [
    "from PIL import Image as image"
   ]
  },
  {
   "cell_type": "code",
   "execution_count": 16,
   "metadata": {},
   "outputs": [
    {
     "data": {
      "text/plain": [
       "torch.Size([3, 244, 224])"
      ]
     },
     "execution_count": 16,
     "metadata": {},
     "output_type": "execute_result"
    }
   ],
   "source": [
    "train_dataset[0][0].shape"
   ]
  },
  {
   "cell_type": "code",
   "execution_count": 17,
   "metadata": {},
   "outputs": [
    {
     "name": "stderr",
     "output_type": "stream",
     "text": [
      "Using cache found in /home/user/.cache/torch/hub/pytorch_vision_v0.10.0\n",
      "/home/user/anaconda3/lib/python3.9/site-packages/torchvision/models/_utils.py:208: UserWarning: The parameter 'pretrained' is deprecated since 0.13 and may be removed in the future, please use 'weights' instead.\n",
      "  warnings.warn(\n",
      "/home/user/anaconda3/lib/python3.9/site-packages/torchvision/models/_utils.py:223: UserWarning: Arguments other than a weight enum or `None` for 'weights' are deprecated since 0.13 and may be removed in the future. The current behavior is equivalent to passing `weights=SqueezeNet1_0_Weights.IMAGENET1K_V1`. You can also use `weights=SqueezeNet1_0_Weights.DEFAULT` to get the most up-to-date weights.\n",
      "  warnings.warn(msg)\n"
     ]
    }
   ],
   "source": [
    "model = torch.hub.load('pytorch/vision:v0.10.0', 'squeezenet1_0', pretrained=True)"
   ]
  },
  {
   "cell_type": "code",
   "execution_count": 18,
   "metadata": {},
   "outputs": [
    {
     "name": "stdout",
     "output_type": "stream",
     "text": [
      "SqueezeNet(\n",
      "  (features): Sequential(\n",
      "    (0): Conv2d(3, 96, kernel_size=(7, 7), stride=(2, 2))\n",
      "    (1): ReLU(inplace=True)\n",
      "    (2): MaxPool2d(kernel_size=3, stride=2, padding=0, dilation=1, ceil_mode=True)\n",
      "    (3): Fire(\n",
      "      (squeeze): Conv2d(96, 16, kernel_size=(1, 1), stride=(1, 1))\n",
      "      (squeeze_activation): ReLU(inplace=True)\n",
      "      (expand1x1): Conv2d(16, 64, kernel_size=(1, 1), stride=(1, 1))\n",
      "      (expand1x1_activation): ReLU(inplace=True)\n",
      "      (expand3x3): Conv2d(16, 64, kernel_size=(3, 3), stride=(1, 1), padding=(1, 1))\n",
      "      (expand3x3_activation): ReLU(inplace=True)\n",
      "    )\n",
      "    (4): Fire(\n",
      "      (squeeze): Conv2d(128, 16, kernel_size=(1, 1), stride=(1, 1))\n",
      "      (squeeze_activation): ReLU(inplace=True)\n",
      "      (expand1x1): Conv2d(16, 64, kernel_size=(1, 1), stride=(1, 1))\n",
      "      (expand1x1_activation): ReLU(inplace=True)\n",
      "      (expand3x3): Conv2d(16, 64, kernel_size=(3, 3), stride=(1, 1), padding=(1, 1))\n",
      "      (expand3x3_activation): ReLU(inplace=True)\n",
      "    )\n",
      "    (5): Fire(\n",
      "      (squeeze): Conv2d(128, 32, kernel_size=(1, 1), stride=(1, 1))\n",
      "      (squeeze_activation): ReLU(inplace=True)\n",
      "      (expand1x1): Conv2d(32, 128, kernel_size=(1, 1), stride=(1, 1))\n",
      "      (expand1x1_activation): ReLU(inplace=True)\n",
      "      (expand3x3): Conv2d(32, 128, kernel_size=(3, 3), stride=(1, 1), padding=(1, 1))\n",
      "      (expand3x3_activation): ReLU(inplace=True)\n",
      "    )\n",
      "    (6): MaxPool2d(kernel_size=3, stride=2, padding=0, dilation=1, ceil_mode=True)\n",
      "    (7): Fire(\n",
      "      (squeeze): Conv2d(256, 32, kernel_size=(1, 1), stride=(1, 1))\n",
      "      (squeeze_activation): ReLU(inplace=True)\n",
      "      (expand1x1): Conv2d(32, 128, kernel_size=(1, 1), stride=(1, 1))\n",
      "      (expand1x1_activation): ReLU(inplace=True)\n",
      "      (expand3x3): Conv2d(32, 128, kernel_size=(3, 3), stride=(1, 1), padding=(1, 1))\n",
      "      (expand3x3_activation): ReLU(inplace=True)\n",
      "    )\n",
      "    (8): Fire(\n",
      "      (squeeze): Conv2d(256, 48, kernel_size=(1, 1), stride=(1, 1))\n",
      "      (squeeze_activation): ReLU(inplace=True)\n",
      "      (expand1x1): Conv2d(48, 192, kernel_size=(1, 1), stride=(1, 1))\n",
      "      (expand1x1_activation): ReLU(inplace=True)\n",
      "      (expand3x3): Conv2d(48, 192, kernel_size=(3, 3), stride=(1, 1), padding=(1, 1))\n",
      "      (expand3x3_activation): ReLU(inplace=True)\n",
      "    )\n",
      "    (9): Fire(\n",
      "      (squeeze): Conv2d(384, 48, kernel_size=(1, 1), stride=(1, 1))\n",
      "      (squeeze_activation): ReLU(inplace=True)\n",
      "      (expand1x1): Conv2d(48, 192, kernel_size=(1, 1), stride=(1, 1))\n",
      "      (expand1x1_activation): ReLU(inplace=True)\n",
      "      (expand3x3): Conv2d(48, 192, kernel_size=(3, 3), stride=(1, 1), padding=(1, 1))\n",
      "      (expand3x3_activation): ReLU(inplace=True)\n",
      "    )\n",
      "    (10): Fire(\n",
      "      (squeeze): Conv2d(384, 64, kernel_size=(1, 1), stride=(1, 1))\n",
      "      (squeeze_activation): ReLU(inplace=True)\n",
      "      (expand1x1): Conv2d(64, 256, kernel_size=(1, 1), stride=(1, 1))\n",
      "      (expand1x1_activation): ReLU(inplace=True)\n",
      "      (expand3x3): Conv2d(64, 256, kernel_size=(3, 3), stride=(1, 1), padding=(1, 1))\n",
      "      (expand3x3_activation): ReLU(inplace=True)\n",
      "    )\n",
      "    (11): MaxPool2d(kernel_size=3, stride=2, padding=0, dilation=1, ceil_mode=True)\n",
      "    (12): Fire(\n",
      "      (squeeze): Conv2d(512, 64, kernel_size=(1, 1), stride=(1, 1))\n",
      "      (squeeze_activation): ReLU(inplace=True)\n",
      "      (expand1x1): Conv2d(64, 256, kernel_size=(1, 1), stride=(1, 1))\n",
      "      (expand1x1_activation): ReLU(inplace=True)\n",
      "      (expand3x3): Conv2d(64, 256, kernel_size=(3, 3), stride=(1, 1), padding=(1, 1))\n",
      "      (expand3x3_activation): ReLU(inplace=True)\n",
      "    )\n",
      "  )\n",
      "  (classifier): Sequential(\n",
      "    (0): Dropout(p=0.5, inplace=False)\n",
      "    (1): Conv2d(512, 1000, kernel_size=(1, 1), stride=(1, 1))\n",
      "    (2): ReLU(inplace=True)\n",
      "    (3): AdaptiveAvgPool2d(output_size=(1, 1))\n",
      "  )\n",
      ")\n"
     ]
    }
   ],
   "source": [
    "print(model)"
   ]
  },
  {
   "cell_type": "code",
   "execution_count": 21,
   "metadata": {},
   "outputs": [
    {
     "name": "stdout",
     "output_type": "stream",
     "text": [
      "Epoch [1/100], Loss: 0.2252227872330102\n",
      "Epoch [2/100], Loss: 0.09178098411460028\n",
      "Epoch [3/100], Loss: 0.07703334246409592\n",
      "Epoch [4/100], Loss: 0.06895379091771071\n",
      "Epoch [5/100], Loss: 0.0649038566650209\n",
      "Epoch [6/100], Loss: 0.06269230637748578\n",
      "Epoch [7/100], Loss: 0.05949066794613696\n",
      "Epoch [8/100], Loss: 0.05942800963150987\n",
      "Epoch [9/100], Loss: 0.05687389822352756\n",
      "Epoch [10/100], Loss: 0.05589735012264643\n",
      "Epoch [11/100], Loss: 0.05414907380646687\n",
      "Epoch [12/100], Loss: 0.05347419818456803\n",
      "Epoch [13/100], Loss: 0.05327563300553012\n",
      "Epoch [14/100], Loss: 0.05313536391964467\n",
      "Epoch [15/100], Loss: 0.052553674072916966\n",
      "Epoch [16/100], Loss: 0.05134259395844868\n",
      "Epoch [17/100], Loss: 0.05226388434040785\n",
      "Epoch [18/100], Loss: 0.05128176446391766\n",
      "Epoch [19/100], Loss: 0.05121226596218467\n",
      "Epoch [20/100], Loss: 0.049082376355476055\n",
      "Epoch [21/100], Loss: 0.04781524166602235\n",
      "Epoch [22/100], Loss: 0.049018025830786086\n",
      "Epoch [23/100], Loss: 0.04936987569399897\n",
      "Epoch [24/100], Loss: 0.04773625141558514\n",
      "Epoch [25/100], Loss: 0.04857689932787621\n",
      "Epoch [26/100], Loss: 0.04810306171655966\n",
      "Epoch [27/100], Loss: 0.0465244516979895\n",
      "Epoch [28/100], Loss: 0.04828753151388126\n",
      "Epoch [29/100], Loss: 0.04710267168715853\n",
      "Epoch [30/100], Loss: 0.047098750014028336\n",
      "Epoch [31/100], Loss: 0.04687140886391336\n",
      "Epoch [32/100], Loss: 0.045753678920162584\n",
      "Epoch [33/100], Loss: 0.04634116172405768\n",
      "Epoch [34/100], Loss: 0.04578093120182536\n",
      "Epoch [35/100], Loss: 0.04362007726482823\n",
      "Epoch [36/100], Loss: 0.045144611402240645\n",
      "Epoch [37/100], Loss: 0.04544533201666078\n",
      "Epoch [38/100], Loss: 0.043870581975681826\n",
      "Epoch [39/100], Loss: 0.044357574946563144\n",
      "Epoch [40/100], Loss: 0.045668205047454044\n",
      "Epoch [41/100], Loss: 0.04411744627832282\n",
      "Epoch [42/100], Loss: 0.042550877091398764\n",
      "Epoch [43/100], Loss: 0.04396652091974974\n",
      "Epoch [44/100], Loss: 0.042994747018430916\n",
      "Epoch [45/100], Loss: 0.04352870355740423\n",
      "Epoch [46/100], Loss: 0.04408724291633989\n",
      "Epoch [47/100], Loss: 0.04489629362993495\n",
      "Epoch [48/100], Loss: 0.04337919957062722\n",
      "Epoch [49/100], Loss: 0.04348713521474985\n",
      "Epoch [50/100], Loss: 0.044977020694007844\n",
      "Epoch [51/100], Loss: 0.04322862938451916\n",
      "Epoch [52/100], Loss: 0.04263950735743453\n",
      "Epoch [53/100], Loss: 0.04328720759187124\n",
      "Epoch [54/100], Loss: 0.04384349019216032\n",
      "Epoch [55/100], Loss: 0.04316684233429468\n",
      "Epoch [56/100], Loss: 0.04136419380438183\n",
      "Epoch [57/100], Loss: 0.04281612626338275\n",
      "Epoch [58/100], Loss: 0.04453064749896725\n",
      "Epoch [59/100], Loss: 0.04351077410815235\n",
      "Epoch [60/100], Loss: 0.04244484768054589\n",
      "Epoch [61/100], Loss: 0.04330841988724744\n",
      "Epoch [62/100], Loss: 0.04260908632524766\n",
      "Epoch [63/100], Loss: 0.04179567252397668\n",
      "Epoch [64/100], Loss: 0.04157975804733405\n",
      "Epoch [65/100], Loss: 0.043083758602283036\n",
      "Epoch [66/100], Loss: 0.042857140446318345\n",
      "Epoch [67/100], Loss: 0.04231598145266219\n",
      "Epoch [68/100], Loss: 0.04178636913510482\n",
      "Epoch [69/100], Loss: 0.04265661838513053\n",
      "Epoch [70/100], Loss: 0.04446633389849771\n",
      "Epoch [71/100], Loss: 0.04255078426857014\n",
      "Epoch [72/100], Loss: 0.04143685488736888\n",
      "Epoch [73/100], Loss: 0.04275019475104972\n",
      "Epoch [74/100], Loss: 0.04186243006609286\n",
      "Epoch [75/100], Loss: 0.04415194439296514\n",
      "Epoch [76/100], Loss: 0.04247702049727389\n",
      "Epoch [77/100], Loss: 0.043728829165607074\n",
      "Epoch [78/100], Loss: 0.04363827114959133\n",
      "Epoch [79/100], Loss: 0.042905162235849524\n",
      "Epoch [80/100], Loss: 0.042536219472499234\n",
      "Epoch [81/100], Loss: 0.04095547619136438\n",
      "Epoch [82/100], Loss: 0.04212988292603801\n",
      "Epoch [83/100], Loss: 0.04170464304211097\n",
      "Epoch [84/100], Loss: 0.041414004535810844\n",
      "Epoch [85/100], Loss: 0.042447399305392035\n",
      "Epoch [86/100], Loss: 0.041930668698681776\n",
      "Epoch [87/100], Loss: 0.04115915098372515\n",
      "Epoch [88/100], Loss: 0.04421383295413905\n",
      "Epoch [89/100], Loss: 0.042952115401410126\n",
      "Epoch [90/100], Loss: 0.04207228130278639\n",
      "Epoch [91/100], Loss: 0.04254374566700078\n",
      "Epoch [92/100], Loss: 0.04162063854466454\n",
      "Epoch [93/100], Loss: 0.04264674575741645\n",
      "Epoch [94/100], Loss: 0.043241957294265485\n",
      "Epoch [95/100], Loss: 0.04205982159423271\n",
      "Epoch [96/100], Loss: 0.04180664819082111\n",
      "Epoch [97/100], Loss: 0.04214622148595417\n",
      "Epoch [98/100], Loss: 0.041696026279685085\n",
      "Epoch [99/100], Loss: 0.041473499464723326\n",
      "Epoch [100/100], Loss: 0.040669359233294185\n",
      "Test Accuracy: 98.18%\n"
     ]
    }
   ],
   "source": [
    "num_classes=len(classes)\n",
    "# Modify the classifier layers for the new number of classes\n",
    "for param in model.parameters():\n",
    "    param.requires_grad=False\n",
    "model.features[10].requires_grad=True\n",
    "model.features[12].requires_grad=True\n",
    "model.classifier=nn.Sequential(\n",
    "    nn.Dropout(p=0.5, inplace=False),\n",
    "    nn.Conv2d(512, +num_classes, kernel_size=(1, 1), stride=(1, 1)),\n",
    "    nn.ReLU(inplace=True),\n",
    "    nn.AdaptiveAvgPool2d(output_size=(1, 1))\n",
    "\n",
    "    )\n",
    "\n",
    "# Define the device (GPU if available, otherwise CPU)\n",
    "device = torch.device(\"cuda\" if torch.cuda.is_available() else \"cpu\")\n",
    "model.to(device)\n",
    "\n",
    "# Define your criterion (loss function)\n",
    "criterion = nn.CrossEntropyLoss()\n",
    "\n",
    "# Define your optimizer\n",
    "optimizer = optim.Adam(model.parameters(), lr=0.001)\n",
    "\n",
    "num_epochs = 100 \n",
    "for epoch in range(num_epochs):\n",
    "    model.train()\n",
    "    running_loss = 0.0\n",
    "    for inputs, labels in train_loader:\n",
    "        inputs, labels = inputs.to(device), labels.to(device)\n",
    "\n",
    "        optimizer.zero_grad()\n",
    "\n",
    "        outputs = model(inputs)\n",
    "        loss = criterion(outputs, labels)\n",
    "        loss.backward()\n",
    "        optimizer.step()\n",
    "\n",
    "        running_loss += loss.item()\n",
    "\n",
    "    print(f\"Epoch [{epoch + 1}/{num_epochs}], Loss: {running_loss / len(train_loader)}\")\n",
    "\n",
    "# Evaluation\n",
    "model.eval()\n",
    "correct_predictions = 0\n",
    "total_predictions = 0\n",
    "\n",
    "with torch.no_grad():\n",
    "    for inputs, labels in test_loader:\n",
    "        inputs, labels = inputs.to(device), labels.to(device)\n",
    "\n",
    "        outputs = model(inputs)\n",
    "        _, predicted = torch.max(outputs, 1)\n",
    "        correct_predictions += (predicted == labels).sum().item()\n",
    "        total_predictions += labels.size(0)\n",
    "\n",
    "test_accuracy = correct_predictions / total_predictions\n",
    "print(\"Test Accuracy: {:.2%}\".format(test_accuracy))  \n"
   ]
  },
  {
   "cell_type": "code",
   "execution_count": 22,
   "metadata": {},
   "outputs": [
    {
     "name": "stdout",
     "output_type": "stream",
     "text": [
      "Model size in bytes:  3019672\n",
      "Model size in KB:  2948.8984375\n",
      "Model size in MB:  2.8797836303710938\n"
     ]
    }
   ],
   "source": [
    "# Count the number of parameters in the model\n",
    "total_params = sum(p.numel() for p in model.parameters())\n",
    "\n",
    "# Calculate the model size in bytes\n",
    "model_size_bytes = total_params * 4  # Assuming 32-bit float (4 bytes) for each parameter\n",
    "\n",
    "print(\"Model size in bytes: \", model_size_bytes)\n",
    "size_kb = model_size_bytes / 1024\n",
    "size_mb = size_kb / 1024\n",
    "\n",
    "print(\"Model size in KB: \", size_kb)\n",
    "print(\"Model size in MB: \", size_mb)"
   ]
  },
  {
   "cell_type": "code",
   "execution_count": 24,
   "metadata": {},
   "outputs": [],
   "source": [
    "#Save the trained model\n",
    "torch.save(model.state_dict(), \"model.pth\")"
   ]
  },
  {
   "cell_type": "code",
   "execution_count": 25,
   "metadata": {},
   "outputs": [],
   "source": [
    "scripted_model=torch.jit.script(model)"
   ]
  },
  {
   "cell_type": "code",
   "execution_count": 26,
   "metadata": {},
   "outputs": [],
   "source": [
    "from torch.utils.mobile_optimizer import optimize_for_mobile\n",
    "opt_model=optimize_for_mobile(scripted_model)"
   ]
  },
  {
   "cell_type": "code",
   "execution_count": 27,
   "metadata": {},
   "outputs": [],
   "source": [
    "opt_model._save_for_lite_interpreter(\"mobile_model.pt\")"
   ]
  }
 ],
 "metadata": {
  "kernelspec": {
   "display_name": ".venv",
   "language": "python",
   "name": "python3"
  },
  "language_info": {
   "codemirror_mode": {
    "name": "ipython",
    "version": 3
   },
   "file_extension": ".py",
   "mimetype": "text/x-python",
   "name": "python",
   "nbconvert_exporter": "python",
   "pygments_lexer": "ipython3",
   "version": "3.9.11"
  }
 },
 "nbformat": 4,
 "nbformat_minor": 2
}
